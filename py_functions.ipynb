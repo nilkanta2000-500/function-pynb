{
  "nbformat": 4,
  "nbformat_minor": 0,
  "metadata": {
    "colab": {
      "provenance": []
    },
    "kernelspec": {
      "name": "python3",
      "display_name": "Python 3"
    },
    "language_info": {
      "name": "python"
    }
  },
  "cells": [
    {
      "cell_type": "markdown",
      "source": [
        "#**Python Functions Assignment (Theory Questions & Answers) :-**\n",
        "\n",
        "\n",
        "1.**What is the difference between a function and a method in Python?**\n",
        "\n",
        "Ans:  A function is an independent block of code that performs a specific task. It is defined using the def-keyword and can be called anywhere in the program. But a method is a function that is associated with an object. It is defined inside a class and operates on instance attributes. Methods have self as the first parameter to access instance-specific data.\n",
        "\n",
        "**Function Example:**\n",
        "\n",
        "                   def greet(name):\n",
        "                   return f\"Hello, {name}!\"\n",
        "                   print(greet(\"Alice\"))\n",
        "\n",
        "**Method Example:**\n",
        "\n",
        "\n",
        "           class Person:\n",
        "           def _init_(self, name):\n",
        "          self.name = name\n",
        "          def greet(self):\n",
        "          return f\"Hello, {self.name}!\"\n",
        "                 person = Person(\"Alice\")\n",
        "                  print(person.greet())\n",
        "\n",
        "2.**Explain the concept of function arguments and parameters in Python.**\n",
        "\n",
        "Ans: Parameters are placeholder defined in a function’s definition, while arguments are the actual values passed to the function when it’s called .\n",
        "\n",
        "**parameters example:** def greet(name, greeting): name and greeting are parameters. Arguments example: greet (“Akash”, “Hello”), “Akash” and “Hello” are arguments .\n",
        "\n",
        "3.**What are the different ways to define and call a function in Python?**\n",
        "\n",
        "Ans: In Python, you define functions using the def keyword, followed by the function name, parentheses for potential arguments, and a colon, then indent the function body. To call a function, simply use its name followed by parentheses, optionally with arguments.\n",
        "\n",
        "**Define function Example:**\n",
        "\n",
        "                  def greet(name):\n",
        "                  print(f\"Hello, {name}!\")\n",
        "\t\t\t            Print (greet(akash))\n",
        "\n",
        "**Calling function Example:**\n",
        "\n",
        "                        greet(\"Alice\")  # Call the 'greet' function,\n",
        "                        passing \"Alice\" as the argument.\n",
        "\n",
        "\n",
        "4.**What is the purpose of the `return` statement in a Python function?**\n",
        "\n",
        "Ans: The return statement in a Python function terminates its execution and sends a value back to the caller, allowing the function's output to be used elsewhere in the program.\n",
        "\n",
        "**Example:**\n",
        "\n",
        "                  def add_numbers(a, b):\n",
        "                  result = a + b\n",
        "                  return result  \n",
        "                  sum_value = add_numbers(5, 3)\n",
        "                  print(sum_value)\n",
        "\n",
        "5.**What are iterators in Python and how do they differ from iterables?**\n",
        "\n",
        "Ans: An Iterable is basically an object that any user can iterate over. An Iterator is also an object that helps a user in iterating over another object. We can generate an iterator when we pass the   object to the iter() method. We use the __next__() method for iterating.\n",
        "\n",
        "6.**Explain the concept of generators in Python and how they are defined?**\n",
        "\n",
        "Ans: In Python, a generator is a function that yields a sequence of values on demand, rather than storing them all in memory at once, using the yield keyword. This is done by defining a function with yield statements, which pauses execution and returns a value, resuming from where it left off when called again.\n",
        "\n",
        "**Example of generators:**\n",
        "\n",
        "                          def simple_generator():\n",
        "                          yield 1\n",
        "                          yield 2\n",
        "                          yield 3\n",
        "                          for value in simple_generator():\n",
        "                          print(value)\n",
        "\n",
        "7.**What are the advantages of using generators over regular functions?**\n",
        "\n",
        "Ans: Generators offer advantages over regular functions, particularly when dealing with large datasets or infinite sequences, due to their memory efficiency and ability to yield values one at a time, enabling lazy evaluation and streamlined data processing.\n",
        "\n",
        "**Example:**\n",
        "\n",
        "           def generate_squares_regular(n):\n",
        "           squares = []\n",
        "           for i in range(n):\n",
        "           squares.append(i**2)\n",
        "           return squares\n",
        "           def generate_squares_generator(n):\n",
        "           for i in range(n):\n",
        "           yield i**2\n",
        "           for square in generate_squares_generator(10):\n",
        "           print(square)\n",
        "\n",
        "8.**What is a lambda function in Python and when is it typically used?**\n",
        "\n",
        "Ans: In Python, a lambda function is a small, anonymous function defined using the lambda keyword, typically used for short, simple operations or when a function is needed only once, often as an argument to other functions.\n",
        "\n",
        "**Example:**\n",
        "\n",
        "          square = x:x*x\n",
        "          Print(square(5)) # output : 25\n",
        "\n",
        "9.**Explain the purpose and usage of the `map()` function in Python.**\n",
        "\n",
        "Ans: The map() function in Python applies a given function to each item in an iterable (like a list) and returns an iterator that yields the transformed results.\n",
        "\n",
        "**Example:**\n",
        "\n",
        "     numbers = [1, 2, 3, 4]\n",
        "    squares = map(lambda x: x**2, numbers)\n",
        "    print(list(squares)) # Output: [1, 4, 9, 16]\n",
        "\n",
        "10.**What is the difference between `map()`, `reduce()`, and `filter()` functions in Python?**\n",
        "\n",
        "Ans: In Python, map() applies a function to each item in an iterable and returns a new iterable with the results, while filter() applies a function to each item and returns a new iterable containing only the items where the function returns True, and reduce() (from functools) applies a function cumulatively to the items of an iterable, reducing it to a single value.\n",
        "\n",
        "**Example:**  \n",
        "         \n",
        "         numbers = [1, 2, 3, 4, 5]\n",
        "         # map\n",
        "         doubled_numbers = list(map(lambda x: x * 2, numbers))\n",
        "         print(f\"Doubled numbers: {doubled_numbers}\")  # Output: [2, 4, 6, 8, 10]\n",
        "         # filter\n",
        "         even_numbers = list(filter(lambda x: x % 2 == 0, numbers))\n",
        "         print(f\"Even numbers: {even_numbers}\")  # Output: [2, 4]\n",
        "         # reduce\n",
        "         sum_of_numbers = reduce(lambda x, y: x + y, numbers)\n",
        "         print(f\"Sum of numbers: {sum_of_numbers}\")  # Output: 15\n",
        "\n",
        "\n",
        "\n",
        "\n",
        "\n",
        "\n",
        "\n",
        "\n",
        "\n"
      ],
      "metadata": {
        "id": "IRX00Zkw8rj3"
      }
    },
    {
      "cell_type": "markdown",
      "source": [
        "11.**Using pen & Paper write the internal mechanism for sum operation using  reduce function on this given list:[47,11,42,13];**\n",
        "\n",
        "Ans: List: [47,11,42,13]\n",
        "\n",
        "     Initial step:\n",
        "     x=47, y = 11\n",
        "     x+y = 58\n",
        "     Accumulator: 58\n",
        "\n",
        "     Second step:\n",
        "     x = 58, y = 42\n",
        "     x + y = 100\n",
        "     Accumulator: 100\n",
        "\n",
        "     Third step:\n",
        "     x = 100 , y = 13\n",
        "     x + y = 113\n",
        "     Accumulator: 113\n",
        "\n",
        "     Final result: 113\n",
        "\n",
        "\n",
        "    \n",
        "\n",
        "\n",
        "\n"
      ],
      "metadata": {
        "id": "RoofMIEZE7Pg"
      }
    },
    {
      "cell_type": "markdown",
      "source": [
        "#**Python Functions Assignment ( practical Questions & Answers ) :-**"
      ],
      "metadata": {
        "id": "mByjdZZ3E-2N"
      }
    },
    {
      "cell_type": "markdown",
      "source": [
        "1. Write a Python function that takes a list of numbers as input and returns the sum of all even numbers in the list."
      ],
      "metadata": {
        "id": "fPOT6JdbFzsf"
      }
    },
    {
      "cell_type": "code",
      "source": [
        "my_list = [1, 2, 3, 4, 5, 6]\n",
        "result = sum_even_numbers(my_list)\n",
        "print(\"Sum of even numbers:\", result)"
      ],
      "metadata": {
        "colab": {
          "base_uri": "https://localhost:8080/"
        },
        "id": "vRvpdMxfGbnH",
        "outputId": "b76ab320-9462-41eb-963f-5b714e3f6865"
      },
      "execution_count": null,
      "outputs": [
        {
          "output_type": "stream",
          "name": "stdout",
          "text": [
            "Sum of even numbers: 12\n"
          ]
        }
      ]
    },
    {
      "cell_type": "markdown",
      "source": [
        "2. Create a Python function that accepts a string and returns the reverse of that string."
      ],
      "metadata": {
        "id": "wGeLo1A9J13P"
      }
    },
    {
      "cell_type": "code",
      "source": [
        "def reverse_string(s: str) -> str:\n",
        "    return s[::-1]\n",
        "print (reverse_string(\"akash\"))"
      ],
      "metadata": {
        "colab": {
          "base_uri": "https://localhost:8080/"
        },
        "id": "L1xeKz5CJ-CI",
        "outputId": "d3bdcfe7-5c8f-40f9-a6d0-531379288863"
      },
      "execution_count": null,
      "outputs": [
        {
          "output_type": "stream",
          "name": "stdout",
          "text": [
            "hsaka\n"
          ]
        }
      ]
    },
    {
      "cell_type": "markdown",
      "source": [
        "3. Implement a Python function that takes a list of integers and returns a new list containing the squares of\n",
        "each number."
      ],
      "metadata": {
        "id": "7krej4v1LZqy"
      }
    },
    {
      "cell_type": "code",
      "source": [
        "def square_numbers(numbers: list) -> list:\n",
        "    return [num ** 2 for num in numbers]\n",
        "print(square_numbers([1, 3, 5]))"
      ],
      "metadata": {
        "colab": {
          "base_uri": "https://localhost:8080/"
        },
        "id": "te6BRN5PLd7y",
        "outputId": "f4944296-4a05-47aa-c92c-41c7202bae1b"
      },
      "execution_count": null,
      "outputs": [
        {
          "output_type": "stream",
          "name": "stdout",
          "text": [
            "[1, 9, 25]\n"
          ]
        }
      ]
    },
    {
      "cell_type": "markdown",
      "source": [
        "4. Write a Python function that checks if a given number is prime or not from 1 to 200.\n",
        "\n",
        "\n"
      ],
      "metadata": {
        "id": "-GPdJJq3MCqk"
      }
    },
    {
      "cell_type": "code",
      "source": [
        "def is_prime(n: int) -> bool:\n",
        "    if n < 2:\n",
        "        return False\n",
        "    for i in range(2, int(n ** 0.5) + 1):\n",
        "        if n % i == 0:\n",
        "            return False\n",
        "    return True\n",
        "for num in range(1, 201):\n",
        "    print(f\"{num} is {'Prime' if is_prime(num) else 'Not Prime'}\")"
      ],
      "metadata": {
        "colab": {
          "base_uri": "https://localhost:8080/"
        },
        "id": "_fSNxoyyMHoG",
        "outputId": "391396de-0eb6-4dd3-e1d0-d3eea8af90ff"
      },
      "execution_count": null,
      "outputs": [
        {
          "output_type": "stream",
          "name": "stdout",
          "text": [
            "1 is Not Prime\n",
            "2 is Prime\n",
            "3 is Prime\n",
            "4 is Not Prime\n",
            "5 is Prime\n",
            "6 is Not Prime\n",
            "7 is Prime\n",
            "8 is Not Prime\n",
            "9 is Not Prime\n",
            "10 is Not Prime\n",
            "11 is Prime\n",
            "12 is Not Prime\n",
            "13 is Prime\n",
            "14 is Not Prime\n",
            "15 is Not Prime\n",
            "16 is Not Prime\n",
            "17 is Prime\n",
            "18 is Not Prime\n",
            "19 is Prime\n",
            "20 is Not Prime\n",
            "21 is Not Prime\n",
            "22 is Not Prime\n",
            "23 is Prime\n",
            "24 is Not Prime\n",
            "25 is Not Prime\n",
            "26 is Not Prime\n",
            "27 is Not Prime\n",
            "28 is Not Prime\n",
            "29 is Prime\n",
            "30 is Not Prime\n",
            "31 is Prime\n",
            "32 is Not Prime\n",
            "33 is Not Prime\n",
            "34 is Not Prime\n",
            "35 is Not Prime\n",
            "36 is Not Prime\n",
            "37 is Prime\n",
            "38 is Not Prime\n",
            "39 is Not Prime\n",
            "40 is Not Prime\n",
            "41 is Prime\n",
            "42 is Not Prime\n",
            "43 is Prime\n",
            "44 is Not Prime\n",
            "45 is Not Prime\n",
            "46 is Not Prime\n",
            "47 is Prime\n",
            "48 is Not Prime\n",
            "49 is Not Prime\n",
            "50 is Not Prime\n",
            "51 is Not Prime\n",
            "52 is Not Prime\n",
            "53 is Prime\n",
            "54 is Not Prime\n",
            "55 is Not Prime\n",
            "56 is Not Prime\n",
            "57 is Not Prime\n",
            "58 is Not Prime\n",
            "59 is Prime\n",
            "60 is Not Prime\n",
            "61 is Prime\n",
            "62 is Not Prime\n",
            "63 is Not Prime\n",
            "64 is Not Prime\n",
            "65 is Not Prime\n",
            "66 is Not Prime\n",
            "67 is Prime\n",
            "68 is Not Prime\n",
            "69 is Not Prime\n",
            "70 is Not Prime\n",
            "71 is Prime\n",
            "72 is Not Prime\n",
            "73 is Prime\n",
            "74 is Not Prime\n",
            "75 is Not Prime\n",
            "76 is Not Prime\n",
            "77 is Not Prime\n",
            "78 is Not Prime\n",
            "79 is Prime\n",
            "80 is Not Prime\n",
            "81 is Not Prime\n",
            "82 is Not Prime\n",
            "83 is Prime\n",
            "84 is Not Prime\n",
            "85 is Not Prime\n",
            "86 is Not Prime\n",
            "87 is Not Prime\n",
            "88 is Not Prime\n",
            "89 is Prime\n",
            "90 is Not Prime\n",
            "91 is Not Prime\n",
            "92 is Not Prime\n",
            "93 is Not Prime\n",
            "94 is Not Prime\n",
            "95 is Not Prime\n",
            "96 is Not Prime\n",
            "97 is Prime\n",
            "98 is Not Prime\n",
            "99 is Not Prime\n",
            "100 is Not Prime\n",
            "101 is Prime\n",
            "102 is Not Prime\n",
            "103 is Prime\n",
            "104 is Not Prime\n",
            "105 is Not Prime\n",
            "106 is Not Prime\n",
            "107 is Prime\n",
            "108 is Not Prime\n",
            "109 is Prime\n",
            "110 is Not Prime\n",
            "111 is Not Prime\n",
            "112 is Not Prime\n",
            "113 is Prime\n",
            "114 is Not Prime\n",
            "115 is Not Prime\n",
            "116 is Not Prime\n",
            "117 is Not Prime\n",
            "118 is Not Prime\n",
            "119 is Not Prime\n",
            "120 is Not Prime\n",
            "121 is Not Prime\n",
            "122 is Not Prime\n",
            "123 is Not Prime\n",
            "124 is Not Prime\n",
            "125 is Not Prime\n",
            "126 is Not Prime\n",
            "127 is Prime\n",
            "128 is Not Prime\n",
            "129 is Not Prime\n",
            "130 is Not Prime\n",
            "131 is Prime\n",
            "132 is Not Prime\n",
            "133 is Not Prime\n",
            "134 is Not Prime\n",
            "135 is Not Prime\n",
            "136 is Not Prime\n",
            "137 is Prime\n",
            "138 is Not Prime\n",
            "139 is Prime\n",
            "140 is Not Prime\n",
            "141 is Not Prime\n",
            "142 is Not Prime\n",
            "143 is Not Prime\n",
            "144 is Not Prime\n",
            "145 is Not Prime\n",
            "146 is Not Prime\n",
            "147 is Not Prime\n",
            "148 is Not Prime\n",
            "149 is Prime\n",
            "150 is Not Prime\n",
            "151 is Prime\n",
            "152 is Not Prime\n",
            "153 is Not Prime\n",
            "154 is Not Prime\n",
            "155 is Not Prime\n",
            "156 is Not Prime\n",
            "157 is Prime\n",
            "158 is Not Prime\n",
            "159 is Not Prime\n",
            "160 is Not Prime\n",
            "161 is Not Prime\n",
            "162 is Not Prime\n",
            "163 is Prime\n",
            "164 is Not Prime\n",
            "165 is Not Prime\n",
            "166 is Not Prime\n",
            "167 is Prime\n",
            "168 is Not Prime\n",
            "169 is Not Prime\n",
            "170 is Not Prime\n",
            "171 is Not Prime\n",
            "172 is Not Prime\n",
            "173 is Prime\n",
            "174 is Not Prime\n",
            "175 is Not Prime\n",
            "176 is Not Prime\n",
            "177 is Not Prime\n",
            "178 is Not Prime\n",
            "179 is Prime\n",
            "180 is Not Prime\n",
            "181 is Prime\n",
            "182 is Not Prime\n",
            "183 is Not Prime\n",
            "184 is Not Prime\n",
            "185 is Not Prime\n",
            "186 is Not Prime\n",
            "187 is Not Prime\n",
            "188 is Not Prime\n",
            "189 is Not Prime\n",
            "190 is Not Prime\n",
            "191 is Prime\n",
            "192 is Not Prime\n",
            "193 is Prime\n",
            "194 is Not Prime\n",
            "195 is Not Prime\n",
            "196 is Not Prime\n",
            "197 is Prime\n",
            "198 is Not Prime\n",
            "199 is Prime\n",
            "200 is Not Prime\n"
          ]
        }
      ]
    },
    {
      "cell_type": "markdown",
      "source": [
        "5. Create an iterator class in Python that generates the Fibonacci sequence up to a specified number of terms."
      ],
      "metadata": {
        "id": "55oZPh0uQGk3"
      }
    },
    {
      "cell_type": "code",
      "source": [
        "fib_iterator = FibonacciIterator(6)\n",
        "for num in fib_iterator:\n",
        "    print(num, end=\" \")"
      ],
      "metadata": {
        "colab": {
          "base_uri": "https://localhost:8080/"
        },
        "id": "j8V6E9QSQNRX",
        "outputId": "ce51d0b6-be49-4e72-ed47-5d8161b3e51f"
      },
      "execution_count": null,
      "outputs": [
        {
          "output_type": "stream",
          "name": "stdout",
          "text": [
            "0 1 1 2 3 5 "
          ]
        }
      ]
    },
    {
      "cell_type": "markdown",
      "source": [
        "6. Write a generator function in Python that yields the powers of 2 up to a given exponent."
      ],
      "metadata": {
        "id": "snSZ-fFyU0rV"
      }
    },
    {
      "cell_type": "code",
      "source": [
        "def powers_of_two(max_exponent):\n",
        "    for exp in range(max_exponent + 1):\n",
        "        yield 2 ** exp\n",
        "for power in powers_of_two(8):\n",
        "    print(power, end=\" \")"
      ],
      "metadata": {
        "colab": {
          "base_uri": "https://localhost:8080/"
        },
        "id": "WUpi_Vl8VQI3",
        "outputId": "4e7ddb95-1d64-4558-82d2-c85cf8056147"
      },
      "execution_count": null,
      "outputs": [
        {
          "output_type": "stream",
          "name": "stdout",
          "text": [
            "1 2 4 8 16 32 64 128 256 "
          ]
        }
      ]
    },
    {
      "cell_type": "markdown",
      "source": [
        "7. Implement a generator function that reads a file line by line and yields each line as a string."
      ],
      "metadata": {
        "id": "6fNRxnp0XMp9"
      }
    },
    {
      "cell_type": "code",
      "source": [
        "def read_file_line_by_line(file_path):\n",
        "    with open(file_path, \"r\", encoding=\"utf-8\") as file:\n",
        "        for line in file:\n",
        "            yield line.strip()"
      ],
      "metadata": {
        "id": "AwmZDNvTXRHT"
      },
      "execution_count": 1,
      "outputs": []
    },
    {
      "cell_type": "markdown",
      "source": [
        "8. Use a lambda function in Python to sort a list of tuples based on the second element of each tuple."
      ],
      "metadata": {
        "id": "Yw_3hVtLeo2F"
      }
    },
    {
      "cell_type": "code",
      "source": [
        "data = [(8, 5), (5, 3), (2, 1), (4, 2)]\n",
        "sorted_data = sorted(data, key=lambda x: x[1])\n",
        "print(sorted_data)"
      ],
      "metadata": {
        "colab": {
          "base_uri": "https://localhost:8080/"
        },
        "id": "_Y_xPQHdeuAZ",
        "outputId": "c20ece08-0d36-457e-8585-65db533091f3"
      },
      "execution_count": null,
      "outputs": [
        {
          "output_type": "stream",
          "name": "stdout",
          "text": [
            "[(2, 1), (4, 2), (5, 3), (8, 5)]\n"
          ]
        }
      ]
    },
    {
      "cell_type": "markdown",
      "source": [
        "9. Write a Python program that uses `map()` to convert a list of temperatures from Celsius to Fahrenheit."
      ],
      "metadata": {
        "id": "emGesoL_gWM6"
      }
    },
    {
      "cell_type": "code",
      "source": [
        "celsius_to_fahrenheit = lambda c: (c * 9/5) + 32\n",
        "celsius_temps = [5, 15, 25, 40, 55, 100]\n",
        "fahrenheit_temps = list(map(celsius_to_fahrenheit, celsius_temps))\n",
        "print(f\"Temperatures in Fahrenheit: {fahrenheit_temps}\")"
      ],
      "metadata": {
        "colab": {
          "base_uri": "https://localhost:8080/"
        },
        "id": "VQx7ccpVghep",
        "outputId": "017d4558-3848-4fe1-be49-737635f23816"
      },
      "execution_count": null,
      "outputs": [
        {
          "output_type": "stream",
          "name": "stdout",
          "text": [
            "Temperatures in Fahrenheit: [41.0, 59.0, 77.0, 104.0, 131.0, 212.0]\n"
          ]
        }
      ]
    },
    {
      "cell_type": "markdown",
      "source": [
        "10. Create a Python program that uses `filter()` to remove all the vowels from a given string."
      ],
      "metadata": {
        "id": "S_8BBNEihwt5"
      }
    },
    {
      "cell_type": "code",
      "source": [
        "remove_vowels = lambda char: char.lower() not in \"aeiou\"\n",
        "input_string = \"Hii, what do you do ?\"\n",
        "filtered_string = \"\".join(filter(remove_vowels, input_string))\n",
        "print(f\"String without vowels: {filtered_string}\")"
      ],
      "metadata": {
        "colab": {
          "base_uri": "https://localhost:8080/"
        },
        "id": "3q98-keThxoq",
        "outputId": "bddcc539-eb8b-434c-8841-94167f476c62"
      },
      "execution_count": null,
      "outputs": [
        {
          "output_type": "stream",
          "name": "stdout",
          "text": [
            "String without vowels: H, wht d y d ?\n"
          ]
        }
      ]
    },
    {
      "cell_type": "markdown",
      "source": [
        "11) Imagine an accounting routine used in a book shop. It works on a list with sublists"
      ],
      "metadata": {
        "id": "80OldglZm0d9"
      }
    },
    {
      "cell_type": "code",
      "source": [
        "from functools import reduce\n",
        "\n",
        "orders = [[1, (\"5464\", 4, 9.99), (\"8274\", 18, 12.99), (\"9744\", 9, 44.95)],\n",
        "          [2, (\"5464\", 9, 9.99), (\"9744\", 9, 44.95)],\n",
        "          [3, (\"5464\", 9, 9.99), (\"88112\", 11, 24.99)],\n",
        "          [4, (\"8732\", 7, 11.99), (\"7733\", 11, 18.99), (\"88112\", 5, 39.95)]]\n",
        "\n",
        "invoice = list(map(lambda k: k if k[1] >= 100 else (k[0], k[1] + 10),\n",
        "                   map(lambda x: (x[0], reduce(lambda a, b: a + b,\n",
        "                                              list(map(lambda y: y[1] * y[2], x[1:])))), orders)))\n",
        "for x in orders:\n",
        "    output1 = list(map(lambda y: y[1] * y[2], x[1:]))\n",
        "    output2 = list(map(lambda y: y[1] * y[2], x[1:]))\n",
        "    output3 = reduce(lambda a, b: a + b, list(map(lambda y: y[1] * y[2], x[1:])))\n",
        "    print(f\"Output1 for order {x[0]}: {output1}\")\n",
        "    print(f\"Output2 for order {x[0]}: {output2}\")\n",
        "    print(f\"Output3 for order {x[0]}: {output3}\")\n",
        "\n",
        "print(orders)"
      ],
      "metadata": {
        "colab": {
          "base_uri": "https://localhost:8080/"
        },
        "id": "3_2iGE4Qmhz_",
        "outputId": "19222c30-ef1d-4fb4-d02d-61384005d770"
      },
      "execution_count": null,
      "outputs": [
        {
          "output_type": "stream",
          "name": "stdout",
          "text": [
            "Output1 for order 1: [39.96, 233.82, 404.55]\n",
            "Output2 for order 1: [39.96, 233.82, 404.55]\n",
            "Output3 for order 1: 678.3299999999999\n",
            "Output1 for order 2: [89.91, 404.55]\n",
            "Output2 for order 2: [89.91, 404.55]\n",
            "Output3 for order 2: 494.46000000000004\n",
            "Output1 for order 3: [89.91, 274.89]\n",
            "Output2 for order 3: [89.91, 274.89]\n",
            "Output3 for order 3: 364.79999999999995\n",
            "Output1 for order 4: [83.93, 208.89, 199.75]\n",
            "Output2 for order 4: [83.93, 208.89, 199.75]\n",
            "Output3 for order 4: 492.57\n",
            "[[1, ('5464', 4, 9.99), ('8274', 18, 12.99), ('9744', 9, 44.95)], [2, ('5464', 9, 9.99), ('9744', 9, 44.95)], [3, ('5464', 9, 9.99), ('88112', 11, 24.99)], [4, ('8732', 7, 11.99), ('7733', 11, 18.99), ('88112', 5, 39.95)]]\n"
          ]
        }
      ]
    },
    {
      "cell_type": "markdown",
      "source": [
        "12.Write a Python program, which returns a list with 2-tuples. Each tuple consists of the order number and the\n",
        "product of the price per item and the quantity. The product should be increased by 10,- € if the value of the\n",
        "order is smaller than 100,00 €."
      ],
      "metadata": {
        "id": "W1uHcDD1tpL9"
      }
    },
    {
      "cell_type": "code",
      "source": [
        "def apply_surcharge(orders):\n",
        "    updated_orders = []\n",
        "\n",
        "    for order in orders:\n",
        "        order_number, price_per_item, quantity = order\n",
        "        total_price = price_per_item * quantity\n",
        "\n",
        "        if total_price < 100:\n",
        "            total_price += 10\n",
        "\n",
        "        updated_orders.append((order_number, price_per_item, quantity, total_price))\n",
        "\n",
        "    return updated_orders\n",
        "\n",
        "orders = [(101, 15, 5), (102, 50, 2), (103, 20, 4), (104, 40, 3) ]\n",
        "\n",
        "result = apply_surcharge(orders)\n",
        "for order in result:\n",
        "    print(order)"
      ],
      "metadata": {
        "colab": {
          "base_uri": "https://localhost:8080/"
        },
        "id": "po7IjYr9u4Ol",
        "outputId": "061e27c9-896d-4c96-e8dc-17ebf51b890f"
      },
      "execution_count": null,
      "outputs": [
        {
          "output_type": "stream",
          "name": "stdout",
          "text": [
            "(101, 15, 5, 85)\n",
            "(102, 50, 2, 100)\n",
            "(103, 20, 4, 90)\n",
            "(104, 40, 3, 120)\n"
          ]
        }
      ]
    },
    {
      "cell_type": "markdown",
      "source": [
        "13.Write a Python program using lambda and map."
      ],
      "metadata": {
        "id": "k7nyY2zIwLmN"
      }
    },
    {
      "cell_type": "code",
      "source": [
        "orders = [(101, 15, 5), (102, 50, 2), (103, 20, 4), (104, 40, 3) ]\n",
        "apply_surcharge = lambda order: ( order[0], order[1], order[2], order[1] * order[2] + (10 if order[1] * order[2] < 100 else 0) )\n",
        "\n",
        "result = list(map(apply_surcharge, orders))\n",
        "\n",
        "for order in result: print(order)"
      ],
      "metadata": {
        "colab": {
          "base_uri": "https://localhost:8080/"
        },
        "id": "KIulcG32wQFO",
        "outputId": "3258607f-2f07-42bd-9659-c662b989792e"
      },
      "execution_count": null,
      "outputs": [
        {
          "output_type": "stream",
          "name": "stdout",
          "text": [
            "(101, 15, 5, 85)\n",
            "(102, 50, 2, 100)\n",
            "(103, 20, 4, 90)\n",
            "(104, 40, 3, 120)\n"
          ]
        }
      ]
    }
  ]
}